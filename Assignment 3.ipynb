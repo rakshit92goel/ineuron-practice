{
 "cells": [
  {
   "cell_type": "markdown",
   "metadata": {},
   "source": [
    "# Task 1"
   ]
  },
  {
   "cell_type": "markdown",
   "metadata": {},
   "source": [
    "## 1"
   ]
  },
  {
   "cell_type": "code",
   "execution_count": 6,
   "metadata": {},
   "outputs": [
    {
     "data": {
      "text/plain": [
       "'Error : division by zero'"
      ]
     },
     "execution_count": 6,
     "metadata": {},
     "output_type": "execute_result"
    }
   ],
   "source": [
    "def try_test():\n",
    "    try:\n",
    "        a = 5/0\n",
    "        return a\n",
    "    except Exception as e:\n",
    "        return ('Error : ' + str(e))\n",
    "\n",
    "try_test()"
   ]
  },
  {
   "cell_type": "markdown",
   "metadata": {},
   "source": [
    "## 2"
   ]
  },
  {
   "cell_type": "code",
   "execution_count": 8,
   "metadata": {},
   "outputs": [
    {
     "name": "stdout",
     "output_type": "stream",
     "text": [
      "Americans play Baseball.\n",
      "Americans play Cricket.\n",
      "Americans watch Baseball.\n",
      "Americans watch Cricket.\n",
      "Indians play Baseball.\n",
      "Indians play Cricket.\n",
      "Indians watch Baseball.\n",
      "Indians watch Cricket.\n"
     ]
    }
   ],
   "source": [
    "subjects=[\"Americans\",\"Indians\"]\n",
    "verbs=[\"play\",\"watch\"]\n",
    "objects=[\"Baseball\",\"Cricket\"]\n",
    "for s in subjects:\n",
    "    for v in verbs:\n",
    "        for o in objects:\n",
    "            print(' '.join([s,v,o]) + '.')"
   ]
  },
  {
   "cell_type": "markdown",
   "metadata": {},
   "source": [
    "# Task 2"
   ]
  },
  {
   "cell_type": "markdown",
   "metadata": {},
   "source": [
    "## 1"
   ]
  },
  {
   "cell_type": "code",
   "execution_count": 12,
   "metadata": {},
   "outputs": [
    {
     "name": "stdout",
     "output_type": "stream",
     "text": [
      "Enter the list separated by spaces : 2 3 4 5\n",
      "Enter the value of n : 8\n",
      "Enter the order (A-Ascending / D-Descending) :d\n"
     ]
    },
    {
     "data": {
      "text/plain": [
       "[[128, 64, 32, 16, 8, 4, 2, 1],\n",
       " [2187, 729, 243, 81, 27, 9, 3, 1],\n",
       " [16384, 4096, 1024, 256, 64, 16, 4, 1],\n",
       " [78125, 15625, 3125, 625, 125, 25, 5, 1]]"
      ]
     },
     "execution_count": 12,
     "metadata": {},
     "output_type": "execute_result"
    }
   ],
   "source": [
    "def ATV(l,n,order):\n",
    "    if order:\n",
    "        return [[i**j for j in range(n)] for i in l]\n",
    "    else:\n",
    "        return [[i**(n-j-1) for j in range(n)] for i in l]\n",
    "\n",
    "o = {'A' : True, 'D': False}\n",
    "l = list(map(int,input('Enter the list separated by spaces : ').split(' ')))\n",
    "n = int(input('Enter the value of n : '))\n",
    "order = o[input('Enter the order (A-Ascending / D-Descending) :').upper()]\n",
    "ATV(l,n,order)"
   ]
  },
  {
   "cell_type": "code",
   "execution_count": null,
   "metadata": {},
   "outputs": [],
   "source": []
  }
 ],
 "metadata": {
  "kernelspec": {
   "display_name": "Python 3",
   "language": "python",
   "name": "python3"
  },
  "language_info": {
   "codemirror_mode": {
    "name": "ipython",
    "version": 3
   },
   "file_extension": ".py",
   "mimetype": "text/x-python",
   "name": "python",
   "nbconvert_exporter": "python",
   "pygments_lexer": "ipython3",
   "version": "3.7.4"
  }
 },
 "nbformat": 4,
 "nbformat_minor": 2
}
